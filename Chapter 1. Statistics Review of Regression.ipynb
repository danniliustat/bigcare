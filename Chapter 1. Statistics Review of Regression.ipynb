{
 "cells": [
  {
   "attachments": {},
   "cell_type": "markdown",
   "metadata": {
    "kernel": "SoS"
   },
   "source": [
    "# Genome-Wide Association Study <a class=\"tocSkip\"/>\n",
    "# Chapter 1. Statistics Review of Regression- A toy example <a class=\"tocSkip\"/>"
   ]
  },
  {
   "attachments": {},
   "cell_type": "markdown",
   "metadata": {
    "kernel": "SoS"
   },
   "source": [
    "This notebook demonstrates two basic statistical regression models using toy examples.\n",
    "\n",
    "1. case/control study by logistic regression\n",
    "2. quantitative trait study by linear regression"
   ]
  },
  {
   "attachments": {},
   "cell_type": "markdown",
   "metadata": {
    "kernel": "SoS"
   },
   "source": [
    "# Environment Setting and Packages\n",
    "\n",
    "Before we can run any analysis, we need to load the necessary R packages. The list of packages are loaded with `library()` function.\n",
    "\n",
    "<div class=\"alert alert-block alert-warning\">\n",
    "<b>Important: You need to load the libraries everytime you open this notebook!</b>\n",
    "</div>"
   ]
  },
  {
   "cell_type": "code",
   "execution_count": 2,
   "metadata": {
    "ExecuteTime": {
     "end_time": "2023-05-16T04:50:17.571064Z",
     "start_time": "2023-05-16T04:50:07.373Z"
    },
    "collapsed": true,
    "kernel": "R 4.1.0 BC",
    "vscode": {
     "languageId": "r"
    }
   },
   "outputs": [
    {
     "ename": "ERROR",
     "evalue": "Error in library(GEOquery): there is no package called 'GEOquery'\n",
     "output_type": "error",
     "traceback": [
      "Error in library(GEOquery): there is no package called 'GEOquery'\nTraceback:\n",
      "1. library(GEOquery)"
     ]
    }
   ],
   "source": [
    "#load R packages\n",
    "library(data.table)\n",
    "library(GEOquery)\n",
    "library(plyr)\n",
    "library(ROCR)"
   ]
  },
  {
   "attachments": {},
   "cell_type": "markdown",
   "metadata": {
    "kernel": "SoS"
   },
   "source": [
    "# Toy Example Data"
   ]
  },
  {
   "attachments": {},
   "cell_type": "markdown",
   "metadata": {
    "kernel": "SoS"
   },
   "source": [
    "To illustrate the statistical methods, we will use a small dataset of 60 samples with both continuous and binary variables. This dataset is a microarray expression data downloaded from [GSE1378](https://www.ncbi.nlm.nih.gov/geo/query/acc.cgi?acc=GSE1378). It contains 60 patients with ER-positive primary breast cancer treated with tamoxifen monotherapy for 5 years. We only extracted the recurrent status and gene expression of 3 genes to this toy example data. You can load this extracted data as below with `fread` function:"
   ]
  },
  {
   "cell_type": "code",
   "execution_count": 2,
   "metadata": {
    "ExecuteTime": {
     "end_time": "2023-05-16T04:50:17.606038Z",
     "start_time": "2023-05-16T04:50:07.799Z"
    },
    "kernel": "R 4.1.0 BC",
    "vscode": {
     "languageId": "r"
    }
   },
   "outputs": [],
   "source": [
    "%use r\n",
    "toy_data <- fread(\"chapter1_data/toy_example_data.txt\")"
   ]
  },
  {
   "attachments": {},
   "cell_type": "markdown",
   "metadata": {
    "kernel": "SoS"
   },
   "source": [
    "We could take a view at the data. `head` function prints the first 6 rows of the dataset. `summary` function provides summary statistics of the numeric variables. Column `status` is a binary variable indicating whether the sample is recurrence or non-recurrence. The last three columns are expression of three genes HOXB13, IL17BR and NHLH1, so they are continuous. "
   ]
  },
  {
   "cell_type": "code",
   "execution_count": 3,
   "metadata": {
    "ExecuteTime": {
     "end_time": "2023-05-16T04:50:17.642856Z",
     "start_time": "2023-05-16T04:50:08.199Z"
    },
    "collapsed": true,
    "kernel": "R 4.1.0 BC",
    "vscode": {
     "languageId": "r"
    }
   },
   "outputs": [
    {
     "data": {
      "text/html": [
       "<table class=\"dataframe\">\n",
       "<caption>A data.table: 6 × 7</caption>\n",
       "<thead>\n",
       "\t<tr><th scope=col>sampleID</th><th scope=col>status</th><th scope=col>time</th><th scope=col>ratio_group</th><th scope=col>gene_HOXB13</th><th scope=col>gene_IL17BR</th><th scope=col>gene_NHLH1</th></tr>\n",
       "\t<tr><th scope=col>&lt;chr&gt;</th><th scope=col>&lt;chr&gt;</th><th scope=col>&lt;int&gt;</th><th scope=col>&lt;chr&gt;</th><th scope=col>&lt;dbl&gt;</th><th scope=col>&lt;dbl&gt;</th><th scope=col>&lt;dbl&gt;</th></tr>\n",
       "</thead>\n",
       "<tbody>\n",
       "\t<tr><td>GSM22365</td><td>Status=recur    </td><td> 75</td><td>High HOXB13:IL17BR ratio</td><td>-2.8968509</td><td>-2.4744445</td><td>-0.121487242</td></tr>\n",
       "\t<tr><td>GSM22366</td><td>Status=recur    </td><td> 21</td><td>High HOXB13:IL17BR ratio</td><td>-2.9811459</td><td>-2.1587305</td><td>-0.621517842</td></tr>\n",
       "\t<tr><td>GSM22367</td><td>Status=recur    </td><td> 38</td><td>Low HOXB13:IL17BR ratio </td><td>-1.3201379</td><td> 1.0535341</td><td> 0.058391758</td></tr>\n",
       "\t<tr><td>GSM22368</td><td>Status=recur    </td><td> 43</td><td>High HOXB13:IL17BR ratio</td><td> 0.5141317</td><td>-1.7643865</td><td> 0.007346758</td></tr>\n",
       "\t<tr><td>GSM22369</td><td>Status=non-recur</td><td>169</td><td>Low HOXB13:IL17BR ratio </td><td>-3.0522629</td><td> 0.8341051</td><td>-0.553806242</td></tr>\n",
       "\t<tr><td>GSM22370</td><td>Status=recur    </td><td> 42</td><td>Low HOXB13:IL17BR ratio </td><td>-3.2735509</td><td>-0.9047099</td><td> 0.842882758</td></tr>\n",
       "</tbody>\n",
       "</table>\n"
      ],
      "text/latex": [
       "A data.table: 6 × 7\n",
       "\\begin{tabular}{lllllll}\n",
       " sampleID & status & time & ratio\\_group & gene\\_HOXB13 & gene\\_IL17BR & gene\\_NHLH1\\\\\n",
       " <chr> & <chr> & <int> & <chr> & <dbl> & <dbl> & <dbl>\\\\\n",
       "\\hline\n",
       "\t GSM22365 & Status=recur     &  75 & High HOXB13:IL17BR ratio & -2.8968509 & -2.4744445 & -0.121487242\\\\\n",
       "\t GSM22366 & Status=recur     &  21 & High HOXB13:IL17BR ratio & -2.9811459 & -2.1587305 & -0.621517842\\\\\n",
       "\t GSM22367 & Status=recur     &  38 & Low HOXB13:IL17BR ratio  & -1.3201379 &  1.0535341 &  0.058391758\\\\\n",
       "\t GSM22368 & Status=recur     &  43 & High HOXB13:IL17BR ratio &  0.5141317 & -1.7643865 &  0.007346758\\\\\n",
       "\t GSM22369 & Status=non-recur & 169 & Low HOXB13:IL17BR ratio  & -3.0522629 &  0.8341051 & -0.553806242\\\\\n",
       "\t GSM22370 & Status=recur     &  42 & Low HOXB13:IL17BR ratio  & -3.2735509 & -0.9047099 &  0.842882758\\\\\n",
       "\\end{tabular}\n"
      ],
      "text/markdown": [
       "\n",
       "A data.table: 6 × 7\n",
       "\n",
       "| sampleID &lt;chr&gt; | status &lt;chr&gt; | time &lt;int&gt; | ratio_group &lt;chr&gt; | gene_HOXB13 &lt;dbl&gt; | gene_IL17BR &lt;dbl&gt; | gene_NHLH1 &lt;dbl&gt; |\n",
       "|---|---|---|---|---|---|---|\n",
       "| GSM22365 | Status=recur     |  75 | High HOXB13:IL17BR ratio | -2.8968509 | -2.4744445 | -0.121487242 |\n",
       "| GSM22366 | Status=recur     |  21 | High HOXB13:IL17BR ratio | -2.9811459 | -2.1587305 | -0.621517842 |\n",
       "| GSM22367 | Status=recur     |  38 | Low HOXB13:IL17BR ratio  | -1.3201379 |  1.0535341 |  0.058391758 |\n",
       "| GSM22368 | Status=recur     |  43 | High HOXB13:IL17BR ratio |  0.5141317 | -1.7643865 |  0.007346758 |\n",
       "| GSM22369 | Status=non-recur | 169 | Low HOXB13:IL17BR ratio  | -3.0522629 |  0.8341051 | -0.553806242 |\n",
       "| GSM22370 | Status=recur     |  42 | Low HOXB13:IL17BR ratio  | -3.2735509 | -0.9047099 |  0.842882758 |\n",
       "\n"
      ],
      "text/plain": [
       "  sampleID status           time ratio_group              gene_HOXB13\n",
       "1 GSM22365 Status=recur      75  High HOXB13:IL17BR ratio -2.8968509 \n",
       "2 GSM22366 Status=recur      21  High HOXB13:IL17BR ratio -2.9811459 \n",
       "3 GSM22367 Status=recur      38  Low HOXB13:IL17BR ratio  -1.3201379 \n",
       "4 GSM22368 Status=recur      43  High HOXB13:IL17BR ratio  0.5141317 \n",
       "5 GSM22369 Status=non-recur 169  Low HOXB13:IL17BR ratio  -3.0522629 \n",
       "6 GSM22370 Status=recur      42  Low HOXB13:IL17BR ratio  -3.2735509 \n",
       "  gene_IL17BR gene_NHLH1  \n",
       "1 -2.4744445  -0.121487242\n",
       "2 -2.1587305  -0.621517842\n",
       "3  1.0535341   0.058391758\n",
       "4 -1.7643865   0.007346758\n",
       "5  0.8341051  -0.553806242\n",
       "6 -0.9047099   0.842882758"
      ]
     },
     "metadata": {},
     "output_type": "display_data"
    },
    {
     "data": {
      "text/plain": [
       "   sampleID            status               time        ratio_group       \n",
       " Length:60          Length:60          Min.   :  5.00   Length:60         \n",
       " Class :character   Class :character   1st Qu.: 46.25   Class :character  \n",
       " Mode  :character   Mode  :character   Median : 88.00   Mode  :character  \n",
       "                                       Mean   : 87.23                     \n",
       "                                       3rd Qu.:124.25                     \n",
       "                                       Max.   :169.00                     \n",
       "  gene_HOXB13       gene_IL17BR        gene_NHLH1      \n",
       " Min.   :-3.8524   Min.   :-4.1248   Min.   :-1.27238  \n",
       " 1st Qu.:-3.3163   1st Qu.:-1.4710   1st Qu.:-0.48316  \n",
       " Median :-2.9990   Median :-0.7511   Median :-0.20704  \n",
       " Mean   :-1.8780   Mean   :-0.6306   Mean   :-0.13142  \n",
       " 3rd Qu.:-0.1243   3rd Qu.: 0.4623   3rd Qu.: 0.05158  \n",
       " Max.   : 3.3221   Max.   : 2.3773   Max.   : 1.98128  "
      ]
     },
     "metadata": {},
     "output_type": "display_data"
    }
   ],
   "source": [
    "%use r\n",
    "head(toy_data)\n",
    "summary(toy_data)"
   ]
  },
  {
   "attachments": {},
   "cell_type": "markdown",
   "metadata": {
    "kernel": "SoS"
   },
   "source": [
    "We can also get a summary of the continuous expression variables by `status` groups. Below, we used `ddply` function to group the data by `status` and calculate `count`,`mean` and `sd` of the 3 genes in each group. As shown in the output data.frame, the `count` column indicates that there are 32 samples in non-recur and 28 in recur group respectively."
   ]
  },
  {
   "cell_type": "code",
   "execution_count": 4,
   "metadata": {
    "ExecuteTime": {
     "end_time": "2023-05-16T04:50:17.681238Z",
     "start_time": "2023-05-16T04:50:08.589Z"
    },
    "collapsed": true,
    "kernel": "R 4.1.0 BC",
    "vscode": {
     "languageId": "r"
    }
   },
   "outputs": [
    {
     "data": {
      "text/html": [
       "<table class=\"dataframe\">\n",
       "<caption>A data.frame: 2 × 4</caption>\n",
       "<thead>\n",
       "\t<tr><th scope=col>status</th><th scope=col>count</th><th scope=col>mean</th><th scope=col>sd</th></tr>\n",
       "\t<tr><th scope=col>&lt;chr&gt;</th><th scope=col>&lt;int&gt;</th><th scope=col>&lt;dbl&gt;</th><th scope=col>&lt;dbl&gt;</th></tr>\n",
       "</thead>\n",
       "<tbody>\n",
       "\t<tr><td>Status=non-recur</td><td>32</td><td>-2.8793163</td><td>1.243989</td></tr>\n",
       "\t<tr><td>Status=recur    </td><td>28</td><td>-0.7337302</td><td>2.320518</td></tr>\n",
       "</tbody>\n",
       "</table>\n"
      ],
      "text/latex": [
       "A data.frame: 2 × 4\n",
       "\\begin{tabular}{llll}\n",
       " status & count & mean & sd\\\\\n",
       " <chr> & <int> & <dbl> & <dbl>\\\\\n",
       "\\hline\n",
       "\t Status=non-recur & 32 & -2.8793163 & 1.243989\\\\\n",
       "\t Status=recur     & 28 & -0.7337302 & 2.320518\\\\\n",
       "\\end{tabular}\n"
      ],
      "text/markdown": [
       "\n",
       "A data.frame: 2 × 4\n",
       "\n",
       "| status &lt;chr&gt; | count &lt;int&gt; | mean &lt;dbl&gt; | sd &lt;dbl&gt; |\n",
       "|---|---|---|---|\n",
       "| Status=non-recur | 32 | -2.8793163 | 1.243989 |\n",
       "| Status=recur     | 28 | -0.7337302 | 2.320518 |\n",
       "\n"
      ],
      "text/plain": [
       "  status           count mean       sd      \n",
       "1 Status=non-recur 32    -2.8793163 1.243989\n",
       "2 Status=recur     28    -0.7337302 2.320518"
      ]
     },
     "metadata": {},
     "output_type": "display_data"
    },
    {
     "data": {
      "text/html": [
       "<table class=\"dataframe\">\n",
       "<caption>A data.frame: 2 × 4</caption>\n",
       "<thead>\n",
       "\t<tr><th scope=col>status</th><th scope=col>count</th><th scope=col>mean</th><th scope=col>sd</th></tr>\n",
       "\t<tr><th scope=col>&lt;chr&gt;</th><th scope=col>&lt;int&gt;</th><th scope=col>&lt;dbl&gt;</th><th scope=col>&lt;dbl&gt;</th></tr>\n",
       "</thead>\n",
       "<tbody>\n",
       "\t<tr><td>Status=non-recur</td><td>32</td><td>-0.04768093</td><td>1.084837</td></tr>\n",
       "\t<tr><td>Status=recur    </td><td>28</td><td>-1.29686598</td><td>1.459527</td></tr>\n",
       "</tbody>\n",
       "</table>\n"
      ],
      "text/latex": [
       "A data.frame: 2 × 4\n",
       "\\begin{tabular}{llll}\n",
       " status & count & mean & sd\\\\\n",
       " <chr> & <int> & <dbl> & <dbl>\\\\\n",
       "\\hline\n",
       "\t Status=non-recur & 32 & -0.04768093 & 1.084837\\\\\n",
       "\t Status=recur     & 28 & -1.29686598 & 1.459527\\\\\n",
       "\\end{tabular}\n"
      ],
      "text/markdown": [
       "\n",
       "A data.frame: 2 × 4\n",
       "\n",
       "| status &lt;chr&gt; | count &lt;int&gt; | mean &lt;dbl&gt; | sd &lt;dbl&gt; |\n",
       "|---|---|---|---|\n",
       "| Status=non-recur | 32 | -0.04768093 | 1.084837 |\n",
       "| Status=recur     | 28 | -1.29686598 | 1.459527 |\n",
       "\n"
      ],
      "text/plain": [
       "  status           count mean        sd      \n",
       "1 Status=non-recur 32    -0.04768093 1.084837\n",
       "2 Status=recur     28    -1.29686598 1.459527"
      ]
     },
     "metadata": {},
     "output_type": "display_data"
    },
    {
     "data": {
      "text/html": [
       "<table class=\"dataframe\">\n",
       "<caption>A data.frame: 2 × 4</caption>\n",
       "<thead>\n",
       "\t<tr><th scope=col>status</th><th scope=col>count</th><th scope=col>mean</th><th scope=col>sd</th></tr>\n",
       "\t<tr><th scope=col>&lt;chr&gt;</th><th scope=col>&lt;int&gt;</th><th scope=col>&lt;dbl&gt;</th><th scope=col>&lt;dbl&gt;</th></tr>\n",
       "</thead>\n",
       "<tbody>\n",
       "\t<tr><td>Status=non-recur</td><td>32</td><td>-0.1012933</td><td>0.6891341</td></tr>\n",
       "\t<tr><td>Status=recur    </td><td>28</td><td>-0.1658441</td><td>0.3837488</td></tr>\n",
       "</tbody>\n",
       "</table>\n"
      ],
      "text/latex": [
       "A data.frame: 2 × 4\n",
       "\\begin{tabular}{llll}\n",
       " status & count & mean & sd\\\\\n",
       " <chr> & <int> & <dbl> & <dbl>\\\\\n",
       "\\hline\n",
       "\t Status=non-recur & 32 & -0.1012933 & 0.6891341\\\\\n",
       "\t Status=recur     & 28 & -0.1658441 & 0.3837488\\\\\n",
       "\\end{tabular}\n"
      ],
      "text/markdown": [
       "\n",
       "A data.frame: 2 × 4\n",
       "\n",
       "| status &lt;chr&gt; | count &lt;int&gt; | mean &lt;dbl&gt; | sd &lt;dbl&gt; |\n",
       "|---|---|---|---|\n",
       "| Status=non-recur | 32 | -0.1012933 | 0.6891341 |\n",
       "| Status=recur     | 28 | -0.1658441 | 0.3837488 |\n",
       "\n"
      ],
      "text/plain": [
       "  status           count mean       sd       \n",
       "1 Status=non-recur 32    -0.1012933 0.6891341\n",
       "2 Status=recur     28    -0.1658441 0.3837488"
      ]
     },
     "metadata": {},
     "output_type": "display_data"
    }
   ],
   "source": [
    "%use r\n",
    "ddply(toy_data, ~status, summarise, count=length(gene_HOXB13), mean=mean(gene_HOXB13), sd=sd(gene_HOXB13))\n",
    "ddply(toy_data, ~status, summarise, count=length(gene_IL17BR), mean=mean(gene_IL17BR), sd=sd(gene_IL17BR))\n",
    "ddply(toy_data, ~status, summarise, count=length(gene_NHLH1), mean=mean(gene_NHLH1), sd=sd(gene_NHLH1))\n"
   ]
  },
  {
   "attachments": {},
   "cell_type": "markdown",
   "metadata": {
    "kernel": "SoS"
   },
   "source": [
    "To prepare for logistic regression, we will create a `censor` variable as an indicator of the `status` group, with `1=recur` and `0=non-recur`. Later, we will use this binary `censor` variable and the last three columns of continuous expression variables of different genes to perform the analysis.\n",
    "\n",
    "The codes below show you how to recode `status` into a binary variable `censor`. First, we get the index number of the recurrent status, and save them in `index` object. Then we create a new variable called `censor` and assign a sequnce of 0 to this vector. Next, we extract from `censor` the elements with index number in `index`, and assign/recode them as 1. After this recoding finishes, we again take a look at the first 6 rows with `head` function."
   ]
  },
  {
   "cell_type": "code",
   "execution_count": 5,
   "metadata": {
    "ExecuteTime": {
     "end_time": "2023-05-16T04:50:17.709052Z",
     "start_time": "2023-05-16T04:50:09.005Z"
    },
    "collapsed": true,
    "kernel": "R 4.1.0 BC",
    "vscode": {
     "languageId": "r"
    }
   },
   "outputs": [
    {
     "data": {
      "text/html": [
       "<table class=\"dataframe\">\n",
       "<caption>A data.table: 6 × 8</caption>\n",
       "<thead>\n",
       "\t<tr><th scope=col>sampleID</th><th scope=col>status</th><th scope=col>time</th><th scope=col>ratio_group</th><th scope=col>gene_HOXB13</th><th scope=col>gene_IL17BR</th><th scope=col>gene_NHLH1</th><th scope=col>censor</th></tr>\n",
       "\t<tr><th scope=col>&lt;chr&gt;</th><th scope=col>&lt;chr&gt;</th><th scope=col>&lt;int&gt;</th><th scope=col>&lt;chr&gt;</th><th scope=col>&lt;dbl&gt;</th><th scope=col>&lt;dbl&gt;</th><th scope=col>&lt;dbl&gt;</th><th scope=col>&lt;dbl&gt;</th></tr>\n",
       "</thead>\n",
       "<tbody>\n",
       "\t<tr><td>GSM22365</td><td>Status=recur    </td><td> 75</td><td>High HOXB13:IL17BR ratio</td><td>-2.8968509</td><td>-2.4744445</td><td>-0.121487242</td><td>1</td></tr>\n",
       "\t<tr><td>GSM22366</td><td>Status=recur    </td><td> 21</td><td>High HOXB13:IL17BR ratio</td><td>-2.9811459</td><td>-2.1587305</td><td>-0.621517842</td><td>1</td></tr>\n",
       "\t<tr><td>GSM22367</td><td>Status=recur    </td><td> 38</td><td>Low HOXB13:IL17BR ratio </td><td>-1.3201379</td><td> 1.0535341</td><td> 0.058391758</td><td>1</td></tr>\n",
       "\t<tr><td>GSM22368</td><td>Status=recur    </td><td> 43</td><td>High HOXB13:IL17BR ratio</td><td> 0.5141317</td><td>-1.7643865</td><td> 0.007346758</td><td>1</td></tr>\n",
       "\t<tr><td>GSM22369</td><td>Status=non-recur</td><td>169</td><td>Low HOXB13:IL17BR ratio </td><td>-3.0522629</td><td> 0.8341051</td><td>-0.553806242</td><td>0</td></tr>\n",
       "\t<tr><td>GSM22370</td><td>Status=recur    </td><td> 42</td><td>Low HOXB13:IL17BR ratio </td><td>-3.2735509</td><td>-0.9047099</td><td> 0.842882758</td><td>1</td></tr>\n",
       "</tbody>\n",
       "</table>\n"
      ],
      "text/latex": [
       "A data.table: 6 × 8\n",
       "\\begin{tabular}{llllllll}\n",
       " sampleID & status & time & ratio\\_group & gene\\_HOXB13 & gene\\_IL17BR & gene\\_NHLH1 & censor\\\\\n",
       " <chr> & <chr> & <int> & <chr> & <dbl> & <dbl> & <dbl> & <dbl>\\\\\n",
       "\\hline\n",
       "\t GSM22365 & Status=recur     &  75 & High HOXB13:IL17BR ratio & -2.8968509 & -2.4744445 & -0.121487242 & 1\\\\\n",
       "\t GSM22366 & Status=recur     &  21 & High HOXB13:IL17BR ratio & -2.9811459 & -2.1587305 & -0.621517842 & 1\\\\\n",
       "\t GSM22367 & Status=recur     &  38 & Low HOXB13:IL17BR ratio  & -1.3201379 &  1.0535341 &  0.058391758 & 1\\\\\n",
       "\t GSM22368 & Status=recur     &  43 & High HOXB13:IL17BR ratio &  0.5141317 & -1.7643865 &  0.007346758 & 1\\\\\n",
       "\t GSM22369 & Status=non-recur & 169 & Low HOXB13:IL17BR ratio  & -3.0522629 &  0.8341051 & -0.553806242 & 0\\\\\n",
       "\t GSM22370 & Status=recur     &  42 & Low HOXB13:IL17BR ratio  & -3.2735509 & -0.9047099 &  0.842882758 & 1\\\\\n",
       "\\end{tabular}\n"
      ],
      "text/markdown": [
       "\n",
       "A data.table: 6 × 8\n",
       "\n",
       "| sampleID &lt;chr&gt; | status &lt;chr&gt; | time &lt;int&gt; | ratio_group &lt;chr&gt; | gene_HOXB13 &lt;dbl&gt; | gene_IL17BR &lt;dbl&gt; | gene_NHLH1 &lt;dbl&gt; | censor &lt;dbl&gt; |\n",
       "|---|---|---|---|---|---|---|---|\n",
       "| GSM22365 | Status=recur     |  75 | High HOXB13:IL17BR ratio | -2.8968509 | -2.4744445 | -0.121487242 | 1 |\n",
       "| GSM22366 | Status=recur     |  21 | High HOXB13:IL17BR ratio | -2.9811459 | -2.1587305 | -0.621517842 | 1 |\n",
       "| GSM22367 | Status=recur     |  38 | Low HOXB13:IL17BR ratio  | -1.3201379 |  1.0535341 |  0.058391758 | 1 |\n",
       "| GSM22368 | Status=recur     |  43 | High HOXB13:IL17BR ratio |  0.5141317 | -1.7643865 |  0.007346758 | 1 |\n",
       "| GSM22369 | Status=non-recur | 169 | Low HOXB13:IL17BR ratio  | -3.0522629 |  0.8341051 | -0.553806242 | 0 |\n",
       "| GSM22370 | Status=recur     |  42 | Low HOXB13:IL17BR ratio  | -3.2735509 | -0.9047099 |  0.842882758 | 1 |\n",
       "\n"
      ],
      "text/plain": [
       "  sampleID status           time ratio_group              gene_HOXB13\n",
       "1 GSM22365 Status=recur      75  High HOXB13:IL17BR ratio -2.8968509 \n",
       "2 GSM22366 Status=recur      21  High HOXB13:IL17BR ratio -2.9811459 \n",
       "3 GSM22367 Status=recur      38  Low HOXB13:IL17BR ratio  -1.3201379 \n",
       "4 GSM22368 Status=recur      43  High HOXB13:IL17BR ratio  0.5141317 \n",
       "5 GSM22369 Status=non-recur 169  Low HOXB13:IL17BR ratio  -3.0522629 \n",
       "6 GSM22370 Status=recur      42  Low HOXB13:IL17BR ratio  -3.2735509 \n",
       "  gene_IL17BR gene_NHLH1   censor\n",
       "1 -2.4744445  -0.121487242 1     \n",
       "2 -2.1587305  -0.621517842 1     \n",
       "3  1.0535341   0.058391758 1     \n",
       "4 -1.7643865   0.007346758 1     \n",
       "5  0.8341051  -0.553806242 0     \n",
       "6 -0.9047099   0.842882758 1     "
      ]
     },
     "metadata": {},
     "output_type": "display_data"
    }
   ],
   "source": [
    "%use r\n",
    "index <- which(toy_data$status==\"Status=recur\")\n",
    "toy_data$censor <- rep(0,60)\n",
    "toy_data$censor[index] <- 1\n",
    "head(toy_data)"
   ]
  },
  {
   "attachments": {},
   "cell_type": "markdown",
   "metadata": {
    "kernel": "SoS"
   },
   "source": [
    "# Logistic Regression"
   ]
  },
  {
   "attachments": {},
   "cell_type": "markdown",
   "metadata": {
    "kernel": "SoS"
   },
   "source": [
    "Below is a simple case/control study on examing relationship between recurrence status and gene expression using logistic regression.\n",
    "\n",
    "So what is logistic regression?\n",
    "\n",
    "Logistic regression is the regression model to conduct when the dependent variable is dichotomous (binary). In this toy example, the binary dependent variable is recur/non-recur status. Similar to other regression methods, the logistic regression is a predictive analysis but it also reveals the association relationship between the dependent variable and the independent variables.\n",
    "\n",
    "Logistic regression can help us answer a variety of questions, including, but not limited to the examples below:\n",
    "\n",
    "1. How does the probability of getting lung cancer (yes vs. no) change for every additional pound of overweight and for every pack of cigarettes smoked per day?\n",
    "2. Do body weight, calorie intake, fat intake, and participant age have an influence on heart attacks (yes vs. no)?\n",
    "\n",
    "Mathematically,  the logistic regression equation can be defined as:\n",
    "\n",
    "$l=log(\\frac{p}{1-p}) = \\beta_0 + \\beta_1 X_1 + \\beta_2 X_2 + ...$, where $p$ is the probability that the response $Y=1$.\n",
    "\n",
    "\n",
    "More detailed explanation about logistic regression can be found at: https://en.wikipedia.org/wiki/Logistic_regression"
   ]
  },
  {
   "attachments": {},
   "cell_type": "markdown",
   "metadata": {
    "kernel": "SoS"
   },
   "source": [
    "In the code below, we performed a logistic regression with a binary response `censor` and continuous expression of `gene_HOXB13`. The model is fitted with function `glm`. `cencor~gene_HOXB13` specifies the model structure, where `censor` is the response and `gene_HOCB13` is the explanatory variable. `family` argument specifies the distribution of `censor` as \"binomial\", and `link` sepecifies that link function for binomial response is \"logit\", which is why this model is called \"logistic model\"."
   ]
  },
  {
   "cell_type": "code",
   "execution_count": 6,
   "metadata": {
    "ExecuteTime": {
     "end_time": "2023-05-16T04:50:17.734558Z",
     "start_time": "2023-05-16T04:50:09.792Z"
    },
    "collapsed": true,
    "kernel": "R 4.1.0 BC",
    "vscode": {
     "languageId": "r"
    }
   },
   "outputs": [
    {
     "data": {
      "text/plain": [
       "\n",
       "Call:\n",
       "glm(formula = censor ~ gene_HOXB13, family = binomial(link = \"logit\"), \n",
       "    data = toy_data)\n",
       "\n",
       "Deviance Residuals: \n",
       "    Min       1Q   Median       3Q      Max  \n",
       "-2.0843  -0.8291  -0.7308   0.7810   1.7447  \n",
       "\n",
       "Coefficients:\n",
       "            Estimate Std. Error z value Pr(>|z|)    \n",
       "(Intercept)   1.1904     0.5474   2.175 0.029655 *  \n",
       "gene_HOXB13   0.6440     0.1913   3.366 0.000764 ***\n",
       "---\n",
       "Signif. codes:  0 ‘***’ 0.001 ‘**’ 0.01 ‘*’ 0.05 ‘.’ 0.1 ‘ ’ 1\n",
       "\n",
       "(Dispersion parameter for binomial family taken to be 1)\n",
       "\n",
       "    Null deviance: 82.911  on 59  degrees of freedom\n",
       "Residual deviance: 65.216  on 58  degrees of freedom\n",
       "AIC: 69.216\n",
       "\n",
       "Number of Fisher Scoring iterations: 4\n"
      ]
     },
     "metadata": {},
     "output_type": "display_data"
    }
   ],
   "source": [
    "%use r\n",
    "# logistic regresion, use gene HOXB13 to predict the recur/non-recur status\n",
    "# for significant gene: HOXB13\n",
    "fit.logistic.1 <- glm(censor~ gene_HOXB13,data = toy_data,family = binomial(link = 'logit'))\n",
    "summary(fit.logistic.1) # output summary of the logistic regression"
   ]
  },
  {
   "attachments": {},
   "cell_type": "markdown",
   "metadata": {
    "kernel": "SoS"
   },
   "source": [
    "The table under `Coefficients` contains test results. The pvalue of the gene HOXB13, in the last column of this table, is 0.000764 which is way smaller than 0.05. It indicates that this gene has a significant impact on the recurrence status."
   ]
  },
  {
   "attachments": {},
   "cell_type": "markdown",
   "metadata": {
    "kernel": "SoS"
   },
   "source": [
    "## ROC curve and AUC for HOXB13"
   ]
  },
  {
   "attachments": {},
   "cell_type": "markdown",
   "metadata": {
    "kernel": "SoS"
   },
   "source": [
    "The ROC (receiver operating characteristic) curve and AUC (area under the curve) are popular tools to check the predictive ability of the logistic regression. \n",
    "\n",
    "Roughly speaking, the AUC equals to the probability that a classifier will rank a randomly chosen positive instance higher than a randomly chosen negative one. AUC is always between 0 and 1. The closer to 1 the AUC is, the better the model fits. As shown in the following results, the AUC is 0.796 and pretty close to 1. So this model fits the data well. In other words, we can say the expression of gene HOXB13 has a great explanation power on the recur status. \n",
    "\n",
    "For more information about these two concepts, Please visit: https://en.wikipedia.org/wiki/Receiver_operating_characteristic#Area_under_the_curve\n"
   ]
  },
  {
   "cell_type": "code",
   "execution_count": 7,
   "metadata": {
    "ExecuteTime": {
     "end_time": "2023-05-16T04:50:18.017254Z",
     "start_time": "2023-05-16T04:50:10.460Z"
    },
    "collapsed": true,
    "kernel": "R 4.1.0 BC",
    "vscode": {
     "languageId": "r"
    }
   },
   "outputs": [
    {
     "data": {
      "text/html": [
       "0.795758928571428"
      ],
      "text/latex": [
       "0.795758928571428"
      ],
      "text/markdown": [
       "0.795758928571428"
      ],
      "text/plain": [
       "[1] 0.7957589"
      ]
     },
     "metadata": {},
     "output_type": "display_data"
    },
    {
     "data": {
      "image/png": "[encoded data removed]",
      "text/plain": [
       "Plot with title “ROC for significant gene HOXB13”"
      ]
     },
     "metadata": {
      "image/png": {
       "height": 420,
       "width": 420
      }
     },
     "output_type": "display_data"
    }
   ],
   "source": [
    "%use r\n",
    "#plot ROC curve\n",
    "p <- predict(fit.logistic.1, type=\"response\")\n",
    "pr <- prediction(p, toy_data$censor)\n",
    "prf <- performance(pr, measure = \"tpr\", x.measure = \"fpr\")\n",
    "prf1 <- prf\n",
    "plot(prf1,main=\"ROC for significant gene HOXB13\")\n",
    "\n",
    "# calculate the auc\n",
    "auc <- performance(pr, measure = \"auc\")\n",
    "auc <- auc@y.values[[1]]\n",
    "auc # 0.796"
   ]
  },
  {
   "attachments": {},
   "cell_type": "markdown",
   "metadata": {
    "kernel": "SoS"
   },
   "source": [
    "## Practice"
   ]
  },
  {
   "attachments": {},
   "cell_type": "markdown",
   "metadata": {
    "kernel": "SoS"
   },
   "source": [
    "### Practice 1: Logistic regression"
   ]
  },
  {
   "attachments": {},
   "cell_type": "markdown",
   "metadata": {
    "kernel": "SoS"
   },
   "source": [
    "**We can repeat the same analysis using another gene, namely NHLH1. What can you conclude from the test results? Write several sentences to summarize.**"
   ]
  },
  {
   "cell_type": "code",
   "execution_count": 8,
   "metadata": {
    "ExecuteTime": {
     "end_time": "2023-05-16T04:50:18.038126Z",
     "start_time": "2023-05-16T04:50:11.173Z"
    },
    "collapsed": true,
    "kernel": "R 4.1.0 BC",
    "vscode": {
     "languageId": "r"
    }
   },
   "outputs": [
    {
     "data": {
      "text/plain": [
       "\n",
       "Call:\n",
       "glm(formula = censor ~ gene_NHLH1, family = binomial(link = \"logit\"), \n",
       "    data = toy_data)\n",
       "\n",
       "Deviance Residuals: \n",
       "    Min       1Q   Median       3Q      Max  \n",
       "-1.2220  -1.1323  -0.9953   1.2248   1.3238  \n",
       "\n",
       "Coefficients:\n",
       "            Estimate Std. Error z value Pr(>|z|)\n",
       "(Intercept)  -0.1616     0.2672  -0.605    0.545\n",
       "gene_NHLH1   -0.2089     0.4698  -0.445    0.657\n",
       "\n",
       "(Dispersion parameter for binomial family taken to be 1)\n",
       "\n",
       "    Null deviance: 82.911  on 59  degrees of freedom\n",
       "Residual deviance: 82.710  on 58  degrees of freedom\n",
       "AIC: 86.71\n",
       "\n",
       "Number of Fisher Scoring iterations: 4\n"
      ]
     },
     "metadata": {},
     "output_type": "display_data"
    }
   ],
   "source": [
    "%use r\n",
    "# for non-significant gene NHLH1\n",
    "fit.logistic.2 <- glm(censor~ gene_NHLH1,data = toy_data,family = binomial(link = 'logit'))\n",
    "summary(fit.logistic.2)"
   ]
  },
  {
   "attachments": {},
   "cell_type": "markdown",
   "metadata": {
    "kernel": "SoS"
   },
   "source": [
    "**Write your description here. (Double click to enable editing.)**"
   ]
  },
  {
   "attachments": {},
   "cell_type": "markdown",
   "metadata": {
    "kernel": "SoS"
   },
   "source": [
    "### Practice 2: ROC curve and AUC for NHLH1"
   ]
  },
  {
   "attachments": {},
   "cell_type": "markdown",
   "metadata": {
    "kernel": "SoS"
   },
   "source": [
    "**We draw the same ROC curve and calculate AUC for NHLH1, what can you conclude from results for NHLH1? Write several sentences to describe your conclusion.**"
   ]
  },
  {
   "cell_type": "code",
   "execution_count": 9,
   "metadata": {
    "ExecuteTime": {
     "end_time": "2023-05-16T04:50:18.100563Z",
     "start_time": "2023-05-16T04:50:11.970Z"
    },
    "collapsed": true,
    "kernel": "R 4.1.0 BC",
    "vscode": {
     "languageId": "r"
    }
   },
   "outputs": [
    {
     "data": {
      "text/html": [
       "0.470982142857143"
      ],
      "text/latex": [
       "0.470982142857143"
      ],
      "text/markdown": [
       "0.470982142857143"
      ],
      "text/plain": [
       "[1] 0.4709821"
      ]
     },
     "metadata": {},
     "output_type": "display_data"
    },
    {
     "data": {
      "image/png": "[encoded data removed]",
      "text/plain": [
       "Plot with title “ROC for non-significant gene NHLH1 ”"
      ]
     },
     "metadata": {
      "image/png": {
       "height": 420,
       "width": 420
      }
     },
     "output_type": "display_data"
    }
   ],
   "source": [
    "%use r\n",
    "#plot ROC curve\n",
    "p <- predict(fit.logistic.2, type=\"response\")\n",
    "pr <- prediction(p, toy_data$censor)\n",
    "prf <- performance(pr, measure = \"tpr\", x.measure = \"fpr\")\n",
    "prf2 <- prf\n",
    "plot(prf2,main=\"ROC for non-significant gene NHLH1 \")\n",
    "\n",
    "# calculate the auc\n",
    "auc <- performance(pr, measure = \"auc\")\n",
    "auc <- auc@y.values[[1]]\n",
    "auc"
   ]
  },
  {
   "attachments": {},
   "cell_type": "markdown",
   "metadata": {
    "kernel": "SoS"
   },
   "source": [
    "**Write your conclusion here. (Doble click to enable editing.)**"
   ]
  },
  {
   "attachments": {},
   "cell_type": "markdown",
   "metadata": {
    "kernel": "SoS"
   },
   "source": [
    "## Comparison of HOXB13 ROC curve and NHLH1 ROC curve"
   ]
  },
  {
   "attachments": {},
   "cell_type": "markdown",
   "metadata": {
    "kernel": "SoS"
   },
   "source": [
    "To have a direct compare the ROC curve for these 2 genes, we can plot the two ROC curves on a single plot. The code below generate the combined plot. We first plot ROC curve for HOXB13 as normal with color blue, then add the ROC curve of NHLH1 on this plot using `lines` and color red. `legend` function specifies the plot legend which is shown at the bottom of the plot.\n",
    "\n",
    "With this combined plot, we can conclude that HOXB13 has much higher predictive probability than NHLH1, while retaining a low false positive rate.."
   ]
  },
  {
   "cell_type": "code",
   "execution_count": 10,
   "metadata": {
    "ExecuteTime": {
     "end_time": "2023-05-16T04:50:18.160403Z",
     "start_time": "2023-05-16T04:50:12.725Z"
    },
    "collapsed": true,
    "kernel": "R 4.1.0 BC",
    "vscode": {
     "languageId": "r"
    }
   },
   "outputs": [
    {
     "data": {
      "image/png": "[encoded data removed]",
      "text/plain": [
       "Plot with title “ROC for HOXB13 and NHLH1”"
      ]
     },
     "metadata": {
      "image/png": {
       "height": 420,
       "width": 420
      }
     },
     "output_type": "display_data"
    }
   ],
   "source": [
    "%use r\n",
    "### two ROC curve comparison\n",
    "plot(prf1,main=\"ROC for HOXB13 and NHLH1\",col='blue')\n",
    "lines(prf2@x.values[[1]],prf2@y.values[[1]],col='red')\n",
    "legend('bottomright',lwd=2,\n",
    "       legend=c(\"ROC for significant gene HOXB13 (auc=0.796)\",\"ROC for non-significant gene NHLH1 (auc =0.47)\"),\n",
    "       col=c('blue','red'))"
   ]
  },
  {
   "attachments": {},
   "cell_type": "markdown",
   "metadata": {
    "kernel": "SoS"
   },
   "source": [
    "# Linear Regression"
   ]
  },
  {
   "attachments": {},
   "cell_type": "markdown",
   "metadata": {
    "kernel": "SoS"
   },
   "source": [
    "In statistics, **linear regression** is an approach for modeling the relationship between a continous dependent variable Y and one or more explanatory variables (or independent variables) denoted by X. The explanatory variables can be either continuous (e.g. age, weight) or categorical (e.g. gender, smoke or not).\n",
    "\n",
    "In the following example, we examine the relationship between the expression of gene HOXB13 and IL17BR. Both of them are continous variables.\n",
    "\n",
    "For more detailed explanation of linear regression, please visit: https://en.wikipedia.org/wiki/Linear_regression\n"
   ]
  },
  {
   "attachments": {},
   "cell_type": "markdown",
   "metadata": {
    "kernel": "SoS"
   },
   "source": [
    "## Linear regression of HOXB13 vs. IL17BR"
   ]
  },
  {
   "attachments": {},
   "cell_type": "markdown",
   "metadata": {
    "kernel": "SoS"
   },
   "source": [
    "Linear regression is fitted with `lm` function. The arguments in `lm` is very similar to those in `glm`, but much simpler as we don't need to specify the distribution and link function here."
   ]
  },
  {
   "cell_type": "code",
   "execution_count": 11,
   "metadata": {
    "ExecuteTime": {
     "end_time": "2023-05-16T04:50:18.179314Z",
     "start_time": "2023-05-16T04:50:13.620Z"
    },
    "collapsed": true,
    "kernel": "R 4.1.0 BC",
    "vscode": {
     "languageId": "r"
    }
   },
   "outputs": [
    {
     "data": {
      "text/plain": [
       "\n",
       "Call:\n",
       "lm(formula = gene_HOXB13 ~ gene_IL17BR, data = toy_data)\n",
       "\n",
       "Residuals:\n",
       "    Min      1Q  Median      3Q     Max \n",
       "-2.5037 -1.5191 -0.6175  1.1574  5.3354 \n",
       "\n",
       "Coefficients:\n",
       "            Estimate Std. Error t value Pr(>|t|)    \n",
       "(Intercept)  -2.1772     0.2855  -7.626  2.6e-10 ***\n",
       "gene_IL17BR  -0.4743     0.1861  -2.548   0.0135 *  \n",
       "---\n",
       "Signif. codes:  0 ‘***’ 0.001 ‘**’ 0.01 ‘*’ 0.05 ‘.’ 0.1 ‘ ’ 1\n",
       "\n",
       "Residual standard error: 2.016 on 58 degrees of freedom\n",
       "Multiple R-squared:  0.1007,\tAdjusted R-squared:  0.08519 \n",
       "F-statistic: 6.494 on 1 and 58 DF,  p-value: 0.01349\n"
      ]
     },
     "metadata": {},
     "output_type": "display_data"
    }
   ],
   "source": [
    "%use r\n",
    "# linear model, use gene IL17BR to predict another gene HOXB13\n",
    "fit.lm <- lm(gene_HOXB13~gene_IL17BR,data = toy_data)\n",
    "summary(fit.lm) # print the summary of the fitted regression"
   ]
  },
  {
   "attachments": {},
   "cell_type": "markdown",
   "metadata": {
    "collapsed": true,
    "kernel": "SoS"
   },
   "source": [
    "The p-value for IL17BR is 0.0135<0.05, so there is a significant association between expression of HOXB13 and IL17BR."
   ]
  },
  {
   "attachments": {},
   "cell_type": "markdown",
   "metadata": {
    "kernel": "SoS"
   },
   "source": [
    "Download an HTML copy of this Notebook with all outputs and your answers.\n",
    "\n",
    "To save as an HTML, click `File`--`Download as`--`HTML(.html)` in the Jupyter Notebook menu bar."
   ]
  },
  {
   "attachments": {},
   "cell_type": "markdown",
   "metadata": {
    "ExecuteTime": {
     "end_time": "2023-05-04T02:50:09.138156Z",
     "start_time": "2023-05-04T02:50:09.126Z"
    },
    "kernel": "SoS"
   },
   "source": [
    "# Quiz\n",
    "\n",
    "<div class=\"alert alert-block alert-warning\">\n",
    "<b>Note: If you don't see quiz questions in this section, please click the current cell and click \"Run\" in the menu bar until you see the questions appear below.</b>\n",
    "</div>\n"
   ]
  },
  {
   "cell_type": "code",
   "execution_count": 1,
   "metadata": {
    "ExecuteTime": {
     "end_time": "2023-05-24T22:58:08.505748Z",
     "start_time": "2023-05-24T22:58:08.420Z"
    },
    "init_cell": true,
    "kernel": "SoS",
    "vscode": {
     "languageId": "r"
    }
   },
   "outputs": [
    {
     "data": {
      "application/vnd.jupyter.widget-view+json": {
       "model_id": "6b0a77d6140f4cd2bc1307393cb258d2",
       "version_major": 2,
       "version_minor": 0
      },
      "text/plain": [
       "VBox(children=(Output(), RadioButtons(layout=Layout(width='max-content'), options=(('True', 0), ('False', 1)),…"
      ]
     },
     "metadata": {},
     "output_type": "display_data"
    },
    {
     "data": {
      "application/vnd.jupyter.widget-view+json": {
       "model_id": "30890f089ef345029053da3b4008a872",
       "version_major": 2,
       "version_minor": 0
      },
      "text/plain": [
       "VBox(children=(Output(), Text(value='', description='Enter a numeric answer:', layout=Layout(height='auto', wi…"
      ]
     },
     "metadata": {},
     "output_type": "display_data"
    },
    {
     "data": {
      "application/vnd.jupyter.widget-view+json": {
       "model_id": "12d033f09dd843fc9ad5a5e06683a274",
       "version_major": 2,
       "version_minor": 0
      },
      "text/plain": [
       "VBox(children=(Output(), RadioButtons(layout=Layout(width='max-content'), options=(('False', 0), ('True', 1)),…"
      ]
     },
     "metadata": {},
     "output_type": "display_data"
    }
   ],
   "source": [
    "%use sos\n",
    "runfile(\"/anvil/projects/x-tra220018/2023/quiz/quiz_func.py\")\n",
    "runfile(\"/anvil/projects/x-tra220018/2023/quiz/unit3/chapter1.py\")"
   ]
  }
 ],
 "metadata": {
  "anaconda-cloud": {},
  "kernelspec": {
   "display_name": "R",
   "language": "R",
   "name": "ir"
  },
  "language_info": {
   "codemirror_mode": "r",
   "file_extension": ".r",
   "mimetype": "text/x-r-source",
   "name": "R",
   "pygments_lexer": "r",
   "version": "4.3.0"
  },
  "sos": {
   "kernels": [
    [
     "R 4.1.0 BC",
     "r",
     "R",
     "",
     "r"
    ],
    [
     "SoS",
     "sos",
     "",
     "",
     "sos"
    ]
   ],
   "panel": {
    "displayed": true,
    "height": 0
   },
   "version": "0.23.3"
  },
  "toc": {
   "base_numbering": 1,
   "nav_menu": {},
   "number_sections": true,
   "sideBar": true,
   "skip_h1_title": false,
   "title_cell": "Table of Contents",
   "title_sidebar": "Contents",
   "toc_cell": false,
   "toc_position": {
    "height": "455px",
    "left": "0px",
    "right": "1637px",
    "top": "107px",
    "width": "358px"
   },
   "toc_section_display": "block",
   "toc_window_display": true
  },
  "varInspector": {
   "cols": {
    "lenName": 16,
    "lenType": 16,
    "lenVar": 40
   },
   "kernels_config": {
    "python": {
     "delete_cmd_postfix": "",
     "delete_cmd_prefix": "del ",
     "library": "var_list.py",
     "varRefreshCmd": "print(var_dic_list())"
    },
    "r": {
     "delete_cmd_postfix": ") ",
     "delete_cmd_prefix": "rm(",
     "library": "var_list.r",
     "varRefreshCmd": "cat(var_dic_list()) "
    }
   },
   "types_to_exclude": [
    "module",
    "function",
    "builtin_function_or_method",
    "instance",
    "_Feature"
   ],
   "window_display": false
  }
 },
 "nbformat": 4,
 "nbformat_minor": 1
}
